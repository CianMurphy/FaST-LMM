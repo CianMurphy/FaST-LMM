{
 "cells": [
  {
   "cell_type": "markdown",
   "metadata": {},
   "source": [
    "FaST-LMM Manual\n",
    "=====\n",
    "Factored Spectrally Transformed Linear Mixed Models\n",
    "========\n",
    "\n",
    "#####Version 0.2.15\n",
    "Microsoft Research, July 15, 2015"
   ]
  },
  {
   "cell_type": "markdown",
   "metadata": {},
   "source": [
    "### Introduction\n",
    "\n",
    "FaST-LMM, which stands for Factored Spectrally Transformed Linear Mixed Models, is a program for performing both single-SNP and SNP-set genome-wide association studies (GWAS) on extremely large data sets.  This release contains the improvements described in Widmer _et al._, _Scientific Reports_ 2014, and tests for epistasis.\n",
    "\n",
    "For help with the software, please contact [fastlmm@microsoft.com](fastlmm@microsoft.com)."
   ]
  },
  {
   "cell_type": "markdown",
   "metadata": {},
   "source": [
    "### Citing FaST-LMM\n",
    "\n",
    "If you use FaST-LMM in any published work, please cite the relevant manuscript(s) describing it.\n",
    "\n",
    "\n",
    "\n",
    "\n",
    "\n",
    "\n",
    "\n",
    " "
   ]
  },
  {
   "cell_type": "markdown",
   "metadata": {},
   "source": [
    "### Data preparation\n",
    "\n",
    "This version of FaST-LMM is designed for use with randomly ascertained data with Gaussian residuals.  If you have case-control data with substantial ascertainment bias, you should first transform your phenotype(s) using LEAP (Weissbrod _et al._, _arXiv_ 2014), which is available at https://github.com/omerwe/LEAP.  If you are analyzing continuous phenotypes with non-Gaussian residuals, you should first transform your phenotype(s) using Warped-LMM (Fusi et al., _Nature Commun_ 2014), available at https://github.com/MicrosoftGenomics/WarpedLMM.\n",
    "\n",
    "FaST-LMM uses four input files containing (1) the SNP data to be tested, (2) the SNP data used to determine the genetic similarity matrix (GSM) between individuals (which can be different from 1), (3) the phenotype data, and (4, optionally) a set of covariates.\n",
    "\n",
    "SNP files can be in PLINK format (ped/map, tped/tfam, bed/bim/fam, or fam/dat/map).  For the most speed, use the binary format in SNP major order.  See the PLINK manual http://pngu.mgh.harvard.edu/~purcell/plink/ (Purcell et al., _Am J Hum Genet_ 2007) for further details.  FaST-LMM also supports Hdf5 file format http://www.hdfgroup.org/HDF5/whatishdf5.html.  See https://github.com/MicrosoftGenomics/PySnpTools for more details.  Note that each SNP is standardized to have mean zero and standard deviation one across all individuals before processing.  Missing values are mean imputed.\n",
    "\n",
    "The required file containing the phenotype uses the PLINK alternate phenotype format with no header.  The covariate file also uses this format (with additional columns for multiple covariates).\n"
   ]
  },
  {
   "cell_type": "markdown",
   "metadata": {},
   "source": [
    "###Notebook preparation and general use"
   ]
  },
  {
   "cell_type": "markdown",
   "metadata": {},
   "source": [
    "To prepare this notebook to run analyses, please run the following script.  "
   ]
  },
  {
   "cell_type": "code",
   "execution_count": 1,
   "metadata": {
    "collapsed": false
   },
   "outputs": [],
   "source": [
    "# set some ipython notebook properties\n",
    "%matplotlib inline\n",
    "\n",
    "# set degree of verbosity (adapt to INFO for more verbose output)\n",
    "import logging\n",
    "logging.basicConfig(level=logging.WARNING)\n",
    "\n",
    "# set figure sizes\n",
    "import pylab\n",
    "pylab.rcParams['figure.figsize'] = (10.0, 8.0)\n",
    "\n",
    "# set display width for pandas data frames\n",
    "import pandas as pd\n",
    "pd.set_option('display.width', 1000)"
   ]
  },
  {
   "cell_type": "markdown",
   "metadata": {},
   "source": [
    "If you would like to run any of the code below from the command line, first copy it into a file (_e.g._, `test.py`), and then run it by typing `python text.py` at the command line.\n",
    "\n",
    "If you would like to see all the options for a function just type `? <function_name>` to an ipython prompt."
   ]
  },
  {
   "cell_type": "markdown",
   "metadata": {},
   "source": [
    "### Single-SNP association testing\n",
    "\n"
   ]
  },
  {
   "cell_type": "markdown",
   "metadata": {},
   "source": [
    "####Traditional analysis: LMM(all)"
   ]
  },
  {
   "cell_type": "markdown",
   "metadata": {},
   "source": [
    "First, let's run a standard LMM analysis in which the GSM uses (almost) all available SNPs.  The model for this analysis is called LMM(all) in  Widmer _et al._, _Scientific Reports_ 2014.  We'll apply this model to the synthetic data in `tests\\datasets\\synth`.  The data has 500 samples with 5000 SNPs, and was generated from a Balding-Nichols model with FST=0.05.\n",
    "\n",
    "When using a linear mixed model for association analysis, it is important to avoid proximal contamination (Lippert _et al._, _Nat Meth_ 2011). To understand proximal contamination, first note that a LMM with no fixed effects, using a realized relationship matrix for the GSM (as FaST-LMM does), is mathematically equivalent to linear regression of the SNPs on the phenotype, with weights integrated over independent Normal distributions having the same variance (_e.g._, Hayes _et al._, _Genet Res_ 2009).  That is, a LMM using a given set of SNPs for the GSM is equivalent to a form of linear regression using those SNPs as covariates to correct for confounding.  This equivalence implies that, when testing a given SNP, that SNP (and SNPs physically close to it) should be excluded from the computation of the GSM.  If not, when testing a particular SNP, we would also be using that same SNP as a covariate, making the log likelihood of the null model higher than it should be, thus leading to deflation of the test statistic and loss of power.\n",
    "\n",
    "Excluding the SNP you are testing and those SNPs in close proximity to it from the GSM in a naïve way is extremely computationally expensive.  A computationally efficient approach for performing the exclusion is to use a GSM computed from all but chromosome $i$ when testing SNPs on chromosome $i$ (Lippert _et al._, _Nat Meth_ 2011).  We call this approach leave out one chromosome (LOOC).  The analysis here does this.\n"
   ]
  },
  {
   "cell_type": "code",
   "execution_count": 2,
   "metadata": {
    "collapsed": false
   },
   "outputs": [
    {
     "name": "stderr",
     "output_type": "stream",
     "text": [
      "C:\\Anaconda\\lib\\site-packages\\matplotlib\\__init__.py:1318: UserWarning:  This call to matplotlib.use() has no effect\n",
      "because the backend has already been chosen;\n",
      "matplotlib.use() must be called *before* pylab, matplotlib.pyplot,\n",
      "or matplotlib.backends is imported for the first time.\n",
      "\n",
      "  warnings.warn(_use_error_msg)\n",
      "WARNING:root:loadPhen is using default missing value of '-9'.\n",
      "WARNING:root:loadPhen is using default missing value of '-9'.\n"
     ]
    },
    {
     "name": "stdout",
     "output_type": "stream",
     "text": [
      "                    SNP  Chr  GenDist  ChrPos        PValue  SnpWeight  SnpWeightSE  SnpFractVarExpl    Nullh2\n",
      "0   snp495_m0_.01m1_.04    5     4052    4052  2.990684e-23   0.418653     0.040052         0.424521  0.451117\n",
      "1   snp1422_m0_.49m1_.5    3     2392    2392  8.251921e-23  -0.416495     0.040300         0.420587  0.279710\n",
      "2  snp1200_m0_.37m1_.36    3     2650    2650  3.048007e-14   0.328870     0.042021         0.331240  0.279710\n",
      "3   snp433_m0_.14m1_.11    3     2003    2003  9.202499e-10  -0.268289     0.042973         0.269670  0.279710\n",
      "4   snp2832_m0_.46m1_.1    4     3274    3274  7.069762e-04   0.170421     0.050003         0.151124  0.542046\n",
      "5  snp1413_m0_.04m1_.03    3     2013    2013  8.161238e-04  -0.148719     0.044157         0.149377  0.279710\n",
      "6   snp2804_m0_.16m1_.3    3     2214    2214  1.239806e-03   0.150705     0.046396         0.144180  0.279710\n",
      "7   snp751_m0_.04m1_.25    1      117     117  1.527432e-03  -0.152430     0.047827         0.141523  0.614963\n",
      "8  snp1440_m0_.35m1_.32    4     3265    3265  1.771049e-03   0.136281     0.043358         0.139610  0.542046\n",
      "9  snp2162_m0_.61m1_.42    2     1307    1307  1.816576e-03  -0.143296     0.045700         0.139280  0.534262\n"
     ]
    },
    {
     "data": {
      "image/png": "[encoded data removed]",
      "text/plain": [
       "<matplotlib.figure.Figure at 0xd48deb8>"
      ]
     },
     "metadata": {},
     "output_type": "display_data"
    },
    {
     "name": "stdout",
     "output_type": "stream",
     "text": [
      "lambda=1.0078\n"
     ]
    },
    {
     "data": {
      "text/plain": [
       "(<matplotlib.figure.Figure at 0x19d4b4e0>,\n",
       " array([  4.00000000e+00,   3.52287875e+00,   3.30103000e+00, ...,\n",
       "          2.17201546e-04,   1.30307892e-04,   4.34316198e-05]),\n",
       " array([  2.00000000e+01,   2.00000000e+01,   1.35159840e+01, ...,\n",
       "          2.70503422e-04,   1.43911779e-04,   4.22528155e-05]))"
      ]
     },
     "execution_count": 2,
     "metadata": {},
     "output_type": "execute_result"
    },
    {
     "data": {
      "image/png": "[encoded data removed]",
      "text/plain": [
       "<matplotlib.figure.Figure at 0x19d4b4e0>"
      ]
     },
     "metadata": {},
     "output_type": "display_data"
    }
   ],
   "source": [
    "# import the algorithm\n",
    "from fastlmm.association import single_snp_leave_out_one_chrom\n",
    "\n",
    "# set up data\n",
    "##############################\n",
    "bed_fn = \"../../tests/datasets/synth/all\"\n",
    "pheno_fn = \"../../tests/datasets/synth/pheno_10_causals.txt\"\n",
    "cov_fn = \"../../tests/datasets/synth/cov.txt\"\n",
    "\n",
    "# run gwas\n",
    "###################################################################\n",
    "results_df = single_snp_leave_out_one_chrom(bed_fn,  pheno_fn, covar=cov_fn)\n",
    "\n",
    "# print head of results data frame\n",
    "import pandas as pd\n",
    "pd.set_option('display.width', 1000)\n",
    "print results_df.head(n=10)\n",
    "\n",
    "# manhattan plot\n",
    "import pylab\n",
    "import fastlmm.util.util as flutil\n",
    "flutil.manhattan_plot(results_df.as_matrix([\"Chr\", \"ChrPos\", \"PValue\"]),pvalue_line=1e-5,xaxis_unit_bp=False)\n",
    "pylab.show()\n",
    "\n",
    "# qq plot\n",
    "from fastlmm.util.stats import plotp\n",
    "plotp.qqplot(results_df[\"PValue\"].values, xlim=[0,5], ylim=[0,5])"
   ]
  },
  {
   "cell_type": "markdown",
   "metadata": {},
   "source": [
    "#### Improving power: LMM(all+selecct)"
   ]
  },
  {
   "cell_type": "markdown",
   "metadata": {},
   "source": [
    "In Widmer _et al._, _Scientific Reports_ 2014, we have shown that power can be increased while still maintaining control of type I error by using two GSMs: one based on all SNPs (`G0`) and one based on selected SNPs that are highly correlated with the phenotype (`G1`).  The model is called LMM(select + all).  This approach has greater computational demands (we recommend using a cluster computer when analyzing large data sets). Here is an example of how to apply this model to the synthetic data."
   ]
  },
  {
   "cell_type": "code",
   "execution_count": 3,
   "metadata": {
    "collapsed": false
   },
   "outputs": [
    {
     "name": "stdout",
     "output_type": "stream",
     "text": [
      "loadPhen is using default missing value of '-9'.\n",
      "loadPhen is using default missing value of '-9'.\n",
      "running feature selection conditioned on background kernel\n",
      "[1, 2, 5, 11, 25, 57, 128]\n"
     ]
    },
    {
     "name": "stderr",
     "output_type": "stream",
     "text": [
      "c:\\Source\\carlk\\fastlmm2\\fastlmm\\inference\\lmm.py:581: FutureWarning: comparison to `None` will result in an elementwise object comparison in the future.\n",
      "  if self.G!=None:\n",
      "c:\\Source\\carlk\\fastlmm2\\fastlmm\\inference\\lmm.py:746: FutureWarning: comparison to `None` will result in an elementwise object comparison in the future.\n",
      "  if Kstar_star == None:\n"
     ]
    },
    {
     "data": {
      "image/png": "[encoded data removed]",
      "text/plain": [
       "<matplotlib.figure.Figure at 0x1a077ef0>"
      ]
     },
     "metadata": {},
     "output_type": "display_data"
    },
    {
     "name": "stdout",
     "output_type": "stream",
     "text": [
      "best_k: 5\n",
      "best_mix: 0.673287196123\n",
      "best_delta: 0.789314804053\n",
      "[2392 2650 2003 2214 2013]\n",
      "\n",
      "results:\n",
      "########################################\n",
      "                    SNP  Chr  GenDist  ChrPos        PValue  SnpWeight  SnpWeightSE  SnpFractVarExpl    Nullh2\n",
      "0   snp495_m0_.01m1_.04    5     4052    4052  1.290421e-33   0.397569     0.030500         0.504379  0.541504\n",
      "1  snp3970_m0_.53m1_.17    5     4307    4307  4.278276e-04  -0.143173     0.040374         0.156940  0.541504\n",
      "2   snp3853_m0_.1m1_.04    5     4177    4177  1.442585e-03   0.112940     0.035250         0.142115  0.541504\n",
      "3   snp2743_m0_.03m1_.1    5     4046    4046  2.515786e-03  -0.107594     0.035429         0.134844  0.541504\n",
      "4   snp228_m0_.03m1_.27    5     4188    4188  4.641175e-03   0.111030     0.039042         0.126413  0.541504\n"
     ]
    }
   ],
   "source": [
    "# example script for two kernel feature selection\n",
    "# this takes a couple of minutes to run\n",
    "import numpy as np\n",
    "import pysnptools.util\n",
    "from pysnptools.snpreader import Bed\n",
    "\n",
    "from fastlmm.feature_selection.feature_selection_two_kernel import FeatureSelectionInSample\n",
    "from pysnptools.util.pheno import loadOnePhen,loadPhen\n",
    "from fastlmm.association import single_snp\n",
    "\n",
    "# define file names\n",
    "bed_fn = \"../../tests/datasets/synth/all\"\n",
    "pheno_fn = \"../../tests/datasets/synth/pheno_10_causals.txt\"\n",
    "cov_fn = \"../../tests/datasets/synth/cov.txt\"\n",
    "\n",
    "# load data\n",
    "###################################################################\n",
    "snp_reader = Bed(bed_fn)\n",
    "pheno = loadOnePhen(pheno_fn)\n",
    "cov = loadPhen(cov_fn)\n",
    "\n",
    "# intersect sample ids\n",
    "snp_reader, pheno, cov = pysnptools.util.intersect_apply([snp_reader, pheno, cov])\n",
    "\n",
    "# read in snps\n",
    "\n",
    "# partition snps on chr5 vs rest\n",
    "test_chr = 5\n",
    "G0 = snp_reader[:,snp_reader.pos[:,0] != test_chr].read(order='C').standardize()\n",
    "test_snps = snp_reader[:,snp_reader.pos[:,0] == test_chr].read(order='C').standardize()\n",
    "\n",
    "\n",
    "y = pheno['vals'][:,0]\n",
    "y -= y.mean()\n",
    "y /= y.std()\n",
    "\n",
    "# load covariates\n",
    "X_cov = cov['vals']\n",
    "X_cov.flags.writeable = False\n",
    "\n",
    "# invoke feature selection to learn which SNPs to use to build G1\n",
    "print \"running feature selection conditioned on background kernel\"\n",
    "# partition data into the first 50 SNPs on chr1 and all but chr1\n",
    "\n",
    "select = FeatureSelectionInSample(max_log_k=7, n_folds=7, order_by_lmm=True, measure=\"ll\", random_state=42)\n",
    "best_k, feat_idx, best_mix, best_delta = select.run_select(G0.val, G0.val, y, cov=X_cov)    \n",
    "\n",
    "# plot out of sample error\n",
    "select.plot_results(measure=\"ll\")\n",
    "# select.plot_results(measure=\"mse\")\n",
    "\n",
    "# print results\n",
    "print \"best_k:\", best_k\n",
    "print \"best_mix:\", best_mix\n",
    "print \"best_delta:\", best_delta\n",
    "\n",
    "\n",
    "###############################\n",
    "# use selected SNPs to build G1\n",
    "print feat_idx\n",
    "G1 = G0[:,feat_idx]\n",
    "\n",
    "results_df = single_snp(test_snps, pheno, G0=G0, G1=G1, mixing=best_mix, h2=None)\n",
    "\n",
    "print \n",
    "print \"results:\"\n",
    "print \"#\"*40\n",
    "print results_df.head()"
   ]
  },
  {
   "cell_type": "markdown",
   "metadata": {},
   "source": [
    "Aside: In some applications, you may want to use two kernels constructed from two pre-specified sets of SNPs (i.e., with no feature selection). Here we show how to do that and how to simultaneously find h2 and the mixing weight between the kernels."
   ]
  },
  {
   "cell_type": "code",
   "execution_count": 4,
   "metadata": {
    "collapsed": false
   },
   "outputs": [
    {
     "name": "stdout",
     "output_type": "stream",
     "text": [
      "loadPhen is using default missing value of '-9'.\n",
      "loadPhen is using default missing value of '-9'.\n",
      "\n",
      "results:\n",
      "########################################\n",
      "                    SNP  Chr  GenDist  ChrPos        PValue  SnpWeight  SnpWeightSE  SnpFractVarExpl    Nullh2\n",
      "0   snp495_m0_.01m1_.04    5     4052    4052  2.792114e-23   0.418228     0.039981         0.424436  0.451714\n",
      "1   snp726_m0_.28m1_.31    5     4236    4236  2.181065e-03  -0.133413     0.043309         0.136744  0.451714\n",
      "2  snp4608_m0_.35m1_.39    5     4785    4785  5.466632e-03  -0.122490     0.043897         0.124075  0.451714\n",
      "3  snp2615_m0_.49m1_.25    5     4239    4239  7.858790e-03   0.124029     0.046472         0.118750  0.451714\n",
      "4   snp2619_m0_.08m1_.1    5     4365    4365  8.284254e-03   0.116484     0.043942         0.117960  0.451714\n"
     ]
    }
   ],
   "source": [
    "# example script for two kernel without feature selection\n",
    "import numpy as np\n",
    "import pysnptools.util\n",
    "from pysnptools.snpreader import Bed\n",
    "\n",
    "from pysnptools.util.pheno import loadOnePhen,loadPhen\n",
    "from fastlmm.association import single_snp\n",
    "\n",
    "# define file names\n",
    "bed_fn = \"../../tests/datasets/synth/all\"\n",
    "pheno_fn = \"../../tests/datasets/synth/pheno_10_causals.txt\"\n",
    "cov_fn = \"../../tests/datasets/synth/cov.txt\"\n",
    "\n",
    "# load data\n",
    "###################################################################\n",
    "snp_reader = Bed(bed_fn)\n",
    "pheno = loadOnePhen(pheno_fn)\n",
    "cov = loadPhen(cov_fn)\n",
    "\n",
    "# partition snps on chr5 vs chr6 vs rest\n",
    "test_chr = 5\n",
    "G1_chr = 6\n",
    "\n",
    "G0 = snp_reader[:,(snp_reader.pos[:,0] != test_chr) & (snp_reader.pos[:,0] != G1_chr)]\n",
    "G1 = snp_reader[:,snp_reader.pos[:,0] == G1_chr]\n",
    "test_snps = snp_reader[:,snp_reader.pos[:,0] == test_chr]\n",
    "\n",
    "results_df = single_snp(test_snps, pheno, G0=G0, G1=G1, mixing=None, h2=None)\n",
    "\n",
    "print \n",
    "print \"results:\"\n",
    "print \"#\"*40\n",
    "print results_df.head()"
   ]
  },
  {
   "cell_type": "markdown",
   "metadata": {},
   "source": [
    "#### Improving speed and memory use when there is little family strucutre: LMM(select)+PCs"
   ]
  },
  {
   "cell_type": "markdown",
   "metadata": {},
   "source": [
    "In the same publication, we have shown that a simpler, more computationally efficient model can be used when the data is  confounded only by population structure and not by family structure or cryptic relatedness.  Under these circumstances, we have found that a model with a single GSM based on selected SNPs in combination with principle components as fixed-effect covariates yields good control of type I error and power.  \n",
    "\n",
    "This model, called LMM(select)+PCs, should be used with caution.  Even if you explicitly remove closely related individuals from your data, cryptic relatedness may remain.\n",
    "\n",
    "To use this model, first identify the principle components to be used with the PCgeno algorithm as described in Widmer _et al._, _Scientific Reports_ 2014."
   ]
  },
  {
   "cell_type": "code",
   "execution_count": 5,
   "metadata": {
    "collapsed": false
   },
   "outputs": [
    {
     "name": "stdout",
     "output_type": "stream",
     "text": [
      "selected number of PCs: 1\n"
     ]
    }
   ],
   "source": [
    "from pysnptools.snpreader import Bed\n",
    "from fastlmm.util import compute_auto_pcs\n",
    "\n",
    "# define file names\n",
    "bed_fn = \"../../tests/datasets/synth/all\"\n",
    "cov_fn = \"pcs_cov.txt\"\n",
    "\n",
    "# run PCgeno\n",
    "#TODO: rename to auto_pcs\n",
    "result = compute_auto_pcs(bed_fn, output_file_name=cov_fn)\n",
    "\n",
    "print \"selected number of PCs:\", result[\"vals\"].shape[1]"
   ]
  },
  {
   "cell_type": "markdown",
   "metadata": {},
   "source": [
    "Now you can call FaST-LMM with feature selection and with these PCs as covariates. Below, we show how to do this with the C++ version of FaST-LMM. Soon, this functionality will be available in the python version."
   ]
  },
  {
   "cell_type": "code",
   "execution_count": 6,
   "metadata": {
    "collapsed": false
   },
   "outputs": [
    {
     "name": "stdout",
     "output_type": "stream",
     "text": [
      "\n",
      "Warning : Unexpected MKL Version Found.  \n",
      "          Expecting: MKL v11.00.04 - Build: 20130517\n",
      "              Found: MKL v11.00.01 - Build: 20121016\n",
      "Warning : FastLmmUseAnyMklLib set.  Continuing execution.\n",
      "\n",
      "\n",
      "\n",
      "FastLmmC v2.06.20131029 - Factored Spectrally Transformed Linear Mixed Models [Release]\n",
      "  Copyright Microsoft Corporation -- Licensed Only for Non-Commercial use.\n",
      "  Compiled Oct 29 2013 at 20:32:57 by ESCIENCE4 for Windows\n",
      "  using MKL v11.00.01 - Build: 20121016\n",
      "\n",
      " ++    Start Processing CommandLine:\n",
      "Warning : -AutoSelect option selected.  Will not use test file [../../tests/datasets/synth/all]\n",
      " --      End Processing CommandLine:\n",
      "\n",
      " ++            Start DoAutoSelect():\n",
      "  ++        Start Loading Test Data:\n",
      "   ++      Processing PLINK fileset: [../../tests/datasets/synth/all]\n",
      "   ReadBinaryFiles4()* elapsed time:  26.679 ms\n",
      "     Number of Individuals Selected:     500\n",
      "               Number of Phenotypes:       1\n",
      "                Number of SNPs Read:    5000\n",
      "                Number of SNPs Used:    5000\n",
      "   --  End Processing PLINK fileset: [../../tests/datasets/synth/all]\n",
      "  ++  Start Preprocessing Test Data:\n",
      "\n",
      "  ++            Start Fold Creation:\n",
      " Select SNPs using cross validation:\n",
      "             Cross Validataion Done:\n",
      "      Cross Validation Elapsed Time:  4.552 sec\n",
      "            Number of SNPs Selected:       4\n",
      "      Write Cross Validation output: [./out.csv.LMMSELECT.aoselect.xval.txt]\n",
      "       Write AutoSelect SNPs output: [./out.csv.LMMSELECT.aoselect.snps.txt]\n",
      " --              End DoAutoSelect():\n",
      "\n",
      "                 Total elapsed time:  4.659 sec\n",
      "\n",
      "\n",
      "Warning : Unexpected MKL Version Found.  \n",
      "          Expecting: MKL v11.00.04 - Build: 20130517\n",
      "              Found: MKL v11.00.01 - Build: 20121016\n",
      "Warning : FastLmmUseAnyMklLib set.  Continuing execution.\n",
      "\n",
      "\n",
      "\n",
      "FastLmmC v2.06.20131029 - Factored Spectrally Transformed Linear Mixed Models [Release]\n",
      "  Copyright Microsoft Corporation -- Licensed Only for Non-Commercial use.\n",
      "  Compiled Oct 29 2013 at 20:32:57 by ESCIENCE4 for Windows\n",
      "  using MKL v11.00.01 - Build: 20121016\n",
      "\n",
      " ++    Start Processing CommandLine:\n",
      "  --               Process -extract: [./out.csv.LMMSELECT.aoselect.snps.txt]\n",
      "  --                   SnpIds found: 4\n",
      " --      End Processing CommandLine:\n",
      "\n",
      " ++      Start Loading FastLmm Data:\n",
      "  ++  Start Loading Covariance Data:\n",
      "   ++      Processing PLINK fileset: [../../tests/datasets/synth/all]\n",
      "   ReadBinaryFiles4()* elapsed time:  12.052 ms\n",
      "     Number of Individuals Selected:     500\n",
      "               Number of Phenotypes:       1\n",
      "                Number of SNPs Read:    5000\n",
      "                Number of SNPs Used:       4\n",
      "   --  End Processing PLINK fileset: [../../tests/datasets/synth/all]\n",
      "  --    End Loading Covariance Data:\n",
      "  ++        Start Loading Test Data:\n",
      "   ++      Processing PLINK fileset: [../../tests/datasets/synth/all]\n",
      "   ReadBinaryFiles4()* elapsed time:  25.578 ms\n",
      "     Number of Individuals Selected:     500\n",
      "               Number of Phenotypes:       1\n",
      "                Number of SNPs Read:    5000\n",
      "                Number of SNPs Used:    5000\n",
      "   --  End Processing PLINK fileset: [../../tests/datasets/synth/all]\n",
      "  --          End Loading Test Data:\n",
      "\n",
      " --        End Loading FastLmm Data:\n",
      "\n",
      "              Compute/Load EigenSym:\n",
      "             Compute GWAS using LMM:\n",
      "                  GWAS elapsed time:  25.210 ms\n",
      "                  Write output file: [c:\\Source\\carlk\\fastlmm2\\doc\\ipynb\\out.csv.LMMSELECT.out.txt]\n",
      "                 Total elapsed time: 290.841 ms\n",
      "\n"
     ]
    }
   ],
   "source": [
    "# import algorithms\n",
    "from fastlmm.util.run_fastlmmc import runFASTLMM, runLMMSELECT\n",
    "\n",
    "# set some file paths for fastlmmc\n",
    "phen_fn = \"../../tests/datasets/synth/pheno_10_causals.txt\"\n",
    "out_dir = \".\"\n",
    "out_fn = \"out.csv\"\n",
    "fastlmm_path = \"../../external/fastlmmc\"\n",
    "\n",
    "# consists of two fastlmmc calls, one that does feature selection and one that runs GWAS\n",
    "output = runLMMSELECT(bed_fn, phen_fn, out_dir, out_fn, bfileSim=bed_fn, fastlmm_path=fastlmm_path)"
   ]
  },
  {
   "cell_type": "markdown",
   "metadata": {},
   "source": [
    "#### Epistasis"
   ]
  },
  {
   "cell_type": "markdown",
   "metadata": {},
   "source": [
    "You can test for epistatic interactions between pairs of SNPs as well.  Here is an example analysis applied to the same synthetic data.  Note that this version of the code uses a likelihood ratio test based on maximum-likelihood estimates.  A REML-based version is in the works."
   ]
  },
  {
   "cell_type": "code",
   "execution_count": 7,
   "metadata": {
    "collapsed": false
   },
   "outputs": [
    {
     "name": "stdout",
     "output_type": "stream",
     "text": [
      "loadPhen is using default missing value of '-9'.\n",
      "loadPhen is using default missing value of '-9'.\n",
      "                   SNP0  Chr0  GenDist0  ChrPos0                  SNP1  Chr1  GenDist1  ChrPos1    PValue  NullLogLike  AltLogLike\n",
      "0  snp1754_m0_.19m1_.42     1        38       38  snp2376_m0_.38m1_.49     1        20       20  0.000451  -700.878718 -694.724583\n",
      "1   snp625_m0_.03m1_.07     1         0        0  snp3000_m0_.28m1_.34     1         5        5  0.001306  -700.387891 -695.220652\n",
      "2   snp250_m0_.23m1_.19     1        15       15  snp2377_m0_.06m1_.02     1        30       30  0.002279  -698.768488 -694.113511\n",
      "3   snp376_m0_.17m1_.17     1         9        9   snp625_m0_.03m1_.07     1         0        0  0.002287  -700.206861 -695.555229\n",
      "4   snp125_m0_.64m1_.41     1        21       21  snp1754_m0_.19m1_.42     1        38       38  0.002404  -700.873862 -696.267594\n",
      "5  snp2878_m0_.82m1_.58     1        42       42  snp1878_m0_.58m1_.36     1        48       48  0.002568  -698.579519 -694.033792\n",
      "6  snp1128_m0_.14m1_.13     1        35       35   snp1625_m0_.4m1_.47     1        23       23  0.003067  -700.445456 -696.061998\n",
      "7     snp3_m0_.55m1_.46     1        32       32  snp1753_m0_.17m1_.19     1        28       28  0.004327  -700.735073 -696.664365\n",
      "8   snp250_m0_.23m1_.19     1        15       15     snp3_m0_.55m1_.46     1        32       32  0.004486  -700.927439 -696.889564\n",
      "9  snp1753_m0_.17m1_.19     1        28       28    snp251_m0_.1m1_.49     1        33       33  0.006503  -700.728933 -697.026244\n",
      "lambda=0.9234\n"
     ]
    },
    {
     "data": {
      "text/plain": [
       "(<matplotlib.figure.Figure at 0x21352710>,\n",
       " array([  3.38916608e+00,   2.91204483e+00,   2.69019608e+00, ...,\n",
       "          8.87220905e-04,   5.32115013e-04,   1.77299240e-04]),\n",
       " array([ 3.34586576,  2.88416324,  2.64223269, ..., -0.        ,\n",
       "        -0.        , -0.        ]))"
      ]
     },
     "execution_count": 7,
     "metadata": {},
     "output_type": "execute_result"
    },
    {
     "data": {
      "image/png": "[encoded data removed]",
      "text/plain": [
       "<matplotlib.figure.Figure at 0x21352710>"
      ]
     },
     "metadata": {},
     "output_type": "display_data"
    }
   ],
   "source": [
    "# import the algorithm and reader\n",
    "from fastlmm.association import epistasis\n",
    "from pysnptools.snpreader import Bed\n",
    "\n",
    "# define file names\n",
    "bed_reader = Bed(\"../../tests/datasets/synth/all\")\n",
    "pheno_fn = \"../../tests/datasets/synth/pheno_10_causals.txt\"\n",
    "cov_fn = \"../../tests/datasets/synth/cov.txt\"\n",
    "\n",
    "# partition data into the first 50 SNPs on chr1 and all but chr1\n",
    "G0 = bed_reader[:,bed_reader.pos[:,0] != 1]\n",
    "test_snps = bed_reader[:,bed_reader.pos[:,0] == 1][:,0:50]\n",
    "\n",
    "# run epistasis analysis\n",
    "results_df = epistasis(test_snps, pheno_fn, G0=G0, covar=cov_fn)\n",
    "\n",
    "# print head of results data frame\n",
    "import pandas as pd\n",
    "pd.set_option('display.width', 1000)\n",
    "print results_df.head(n=10)\n",
    "\n",
    "# qq plot\n",
    "from fastlmm.util.stats import plotp\n",
    "plotp.qqplot(results_df[\"PValue\"].values, xlim=[0,5], ylim=[0,5])"
   ]
  },
  {
   "cell_type": "markdown",
   "metadata": {},
   "source": [
    "### SNP-set association testing"
   ]
  },
  {
   "cell_type": "markdown",
   "metadata": {},
   "source": [
    "SNP-set association testing is performed similarly to single-SNP testing.  The output columns are described in the Appendix.  Both LRT and score tests are supported, and the analysis may be run with or without a background GSM to correct for confounding.  Here is an example that uses the LRT and no background GSM--note the inflation in the results.  If you include a background GSM (using `G0`) type I error will be better controlled.  Again, proximal contamination is avoided using LOOC.  "
   ]
  },
  {
   "cell_type": "code",
   "execution_count": 8,
   "metadata": {
    "collapsed": false
   },
   "outputs": [
    {
     "name": "stdout",
     "output_type": "stream",
     "text": [
      "loadPhen is using default missing value of '-9'.\n",
      "loadPhen is using default missing value of '-9'.\n",
      "    SetId  LogLikeAlt  LogLikeNull  P-value_adjusted  P-value(50/50)  #SNPs_in_Set  #ExcludedSNPs  chrm pos. range    Alt_h2  Alt_a2\n",
      "0  set_65 -703.888501  -707.609745          0.002564        0.003185            10              0     1    650-659  0.029725       0\n",
      "1  set_86 -704.240753  -707.609745          0.003768        0.004719            10              0     1    860-869  0.030321       0\n",
      "2  set_70 -704.525274  -707.609745          0.005158        0.006501            10              0     1    700-709  0.029790       0\n",
      "3  set_18 -704.920236  -707.609745          0.008020        0.010190            10              0     1    180-189  0.024803       0\n",
      "4  set_45 -705.410762  -707.609745          0.014031        0.017991            10              0     1    450-459  0.023440       0\n",
      "5  set_84 -705.507312  -707.609745          0.015693        0.020154            10              0     1    840-849  0.024002       0\n",
      "6  set_98 -705.623163  -707.609745          0.017965        0.023115            10              0     1    980-989  0.022271       0\n",
      "7  set_80 -705.728130  -707.609745          0.020327        0.026196            10              0     1    800-809  0.023943       0\n",
      "8  set_73 -706.000699  -707.609745          0.028153        0.036414            10              0     1    730-739  0.019835       0\n",
      "9  set_92 -706.166636  -707.609745          0.034473        0.044670            10              0     1    920-929  0.019799       0\n",
      "lambda=2.6712\n"
     ]
    },
    {
     "name": "stderr",
     "output_type": "stream",
     "text": [
      "C:\\Anaconda\\lib\\site-packages\\pandas\\io\\parsers.py:648: ParserWarning: Falling back to the 'python' engine because the 'c' engine does not support regex separators; you can avoid this warning by specifying engine='python'.\n",
      "  ParserWarning)\n"
     ]
    },
    {
     "data": {
      "text/plain": [
       "(<matplotlib.figure.Figure at 0x3dbff940>,\n",
       " array([  2.30103000e+00,   1.82390874e+00,   1.60205999e+00,\n",
       "          1.45593196e+00,   1.34678749e+00,   1.25963731e+00,\n",
       "          1.18708664e+00,   1.12493874e+00,   1.07058107e+00,\n",
       "          1.02227639e+00,   9.78810701e-01,   9.39302160e-01,\n",
       "          9.03089987e-01,   8.69666232e-01,   8.38631998e-01,\n",
       "          8.09668302e-01,   7.82516056e-01,   7.56961951e-01,\n",
       "          7.32828272e-01,   7.09965389e-01,   6.88246139e-01,\n",
       "          6.67561540e-01,   6.47817482e-01,   6.28932138e-01,\n",
       "          6.10833916e-01,   5.93459820e-01,   5.76754126e-01,\n",
       "          5.60667306e-01,   5.45155140e-01,   5.30177984e-01,\n",
       "          5.15700161e-01,   5.01689446e-01,   4.88116639e-01,\n",
       "          4.74955193e-01,   4.62180905e-01,   4.49771647e-01,\n",
       "          4.37707136e-01,   4.25968732e-01,   4.14539270e-01,\n",
       "          4.03402904e-01,   3.92544977e-01,   3.81951903e-01,\n",
       "          3.71611070e-01,   3.61510743e-01,   3.51639989e-01,\n",
       "          3.41988603e-01,   3.32547047e-01,   3.23306390e-01,\n",
       "          3.14258261e-01,   3.05394801e-01,   2.96708622e-01,\n",
       "          2.88192771e-01,   2.79840697e-01,   2.71646218e-01,\n",
       "          2.63603498e-01,   2.55707017e-01,   2.47951552e-01,\n",
       "          2.40332155e-01,   2.32844134e-01,   2.25483034e-01,\n",
       "          2.18244625e-01,   2.11124884e-01,   2.04119983e-01,\n",
       "          1.97226275e-01,   1.90440285e-01,   1.83758700e-01,\n",
       "          1.77178355e-01,   1.70696227e-01,   1.64309429e-01,\n",
       "          1.58015195e-01,   1.51810883e-01,   1.45693958e-01,\n",
       "          1.39661993e-01,   1.33712661e-01,   1.27843727e-01,\n",
       "          1.22053048e-01,   1.16338565e-01,   1.10698297e-01,\n",
       "          1.05130343e-01,   9.96328713e-02,   9.42041196e-02,\n",
       "          8.88423913e-02,   8.35460515e-02,   7.83135245e-02,\n",
       "          7.31432911e-02,   6.80338853e-02,   6.29838925e-02,\n",
       "          5.79919470e-02,   5.30567293e-02,   4.81769647e-02,\n",
       "          4.33514208e-02,   3.85789059e-02,   3.38582673e-02,\n",
       "          2.91883891e-02,   2.45681915e-02,   1.99966284e-02,\n",
       "          1.54726867e-02,   1.09953843e-02,   6.56376950e-03,\n",
       "          2.17691925e-03]),\n",
       " array([ 2.59109929,  2.42387662,  2.28749223,  2.09581544,  1.85290004,\n",
       "         1.80429499,  1.74556334,  1.69192736,  1.55047506,  1.46252069,\n",
       "         1.4566447 ,  1.37785374,  1.32737571,  1.23663292,  1.22369664,\n",
       "         1.20575608,  1.16818561,  1.11434829,  1.07609737,  1.06879262,\n",
       "         1.04583489,  1.03185677,  1.02990848,  0.96236214,  0.95836781,\n",
       "         0.95608063,  0.92171831,  0.88681777,  0.8735882 ,  0.84897836,\n",
       "         0.83213065,  0.80258182,  0.79835051,  0.76656428,  0.75360264,\n",
       "         0.75266371,  0.72326722,  0.6710065 ,  0.67071653,  0.64029597,\n",
       "         0.63660794,  0.63037278,  0.62741182,  0.62154433,  0.60195085,\n",
       "         0.59030866,  0.5801302 ,  0.57750416,  0.57726151,  0.56987271,\n",
       "         0.56824415,  0.55030537,  0.54998067,  0.54698883,  0.50787885,\n",
       "         0.48625096,  0.47901341,  0.46736912,  0.46107264,  0.45782475,\n",
       "         0.45133923,  0.40763535,  0.39904181,  0.39580326, -0.        ,\n",
       "        -0.        , -0.        , -0.        , -0.        , -0.        ,\n",
       "        -0.        , -0.        , -0.        , -0.        , -0.        ,\n",
       "        -0.        , -0.        , -0.        , -0.        , -0.        ,\n",
       "        -0.        , -0.        , -0.        , -0.        , -0.        ,\n",
       "        -0.        , -0.        , -0.        , -0.        , -0.        ,\n",
       "        -0.        , -0.        , -0.        , -0.        , -0.        ,\n",
       "        -0.        , -0.        , -0.        , -0.        , -0.        ]))"
      ]
     },
     "execution_count": 8,
     "metadata": {},
     "output_type": "execute_result"
    },
    {
     "data": {
      "image/png": "[encoded data removed]",
      "text/plain": [
       "<matplotlib.figure.Figure at 0x3dbff940>"
      ]
     },
     "metadata": {},
     "output_type": "display_data"
    }
   ],
   "source": [
    "# this will take a few minutes to run\n",
    "\n",
    "# import the algorithm and reader\n",
    "from fastlmm.association import snp_set\n",
    "\n",
    "# define file names\n",
    "test_snps_fn = \"../../tests/datasets/synth/chr1\"\n",
    "pheno_fn = \"../../tests/datasets/synth/pheno_10_causals.txt\"\n",
    "cov_fn = \"../../tests/datasets/synth/cov.txt\"\n",
    "set_list_fn = \"../../tests/datasets/synth/chr1.sets.txt\"\n",
    "\n",
    "# run SNP-set analysis\n",
    "results_df = snp_set(test_snps_fn, set_list_fn, pheno_fn, covar=cov_fn, test=\"lrt\")\n",
    "\n",
    "# print head of results data frame\n",
    "import pandas as pd\n",
    "pd.set_option('display.width', 1000)\n",
    "print results_df.head(n=10)\n",
    "\n",
    "# qq plot\n",
    "from fastlmm.util.stats import plotp\n",
    "plotp.qqplot(results_df[\"P-value_adjusted\"].values, xlim=[0,5], ylim=[0,5])\n"
   ]
  },
  {
   "cell_type": "markdown",
   "metadata": {},
   "source": [
    "The `G1` option available for single-marker testing is not yet supported for set testing.  With the same caveats as previously described, however, you can use a `G0` based on selected SNPs and PC covariates when your data is confounded only by population structure.\n"
   ]
  },
  {
   "cell_type": "markdown",
   "metadata": {},
   "source": [
    "### Appendix"
   ]
  },
  {
   "cell_type": "markdown",
   "metadata": {},
   "source": [
    "Columns in the output are as follows:\n",
    "\n",
    "`SNP` or `Set`\n",
    "The SNP or set identifier tested.\n",
    "\n",
    "`PValue`\n",
    "The _P_ value computed for the SNP tested.\n",
    "\n",
    "`NullLogLike`\n",
    "The log likelihood of the null model.\n",
    "\n",
    "`AltLogLike`\n",
    "The log likelihood of the alternative model.\n",
    "\n",
    "Global statistics, such as sample size and the number of SNPs tested are printed to stdout at the end of the run.\n",
    "\n",
    "######Single-SNP testing only:\n",
    "\n",
    "`Chr`\n",
    "The chromosome identifier for the SNP tested or 0 if unplaced.  Taken from the PLINK file.\n",
    "\n",
    "`GenDist`\n",
    "The genetic distance of the SNP on the chromosome.  Taken from the PLINK file.  Any units are allowed, but typically centimorgans or morgans are used.\n",
    "\n",
    "`ChrPos`\n",
    "The base-pair position of the SNP on the chromosome (bp units).  Taken from the PLINK file.\n",
    "\n",
    "`SnpWeight`\n",
    "The fixed-effect weight of the SNP.\n",
    "\n",
    "`SnpWeightSE`\n",
    "The standard error of the SnpWeight.\n",
    "\n",
    "`Nullh2`\n",
    "The narrow sense heritability given by h2 $=σ_g^2/(σ_g^2+σ_e^2)$ on the null model.\n",
    "\n",
    "######SNP-set testing only:\n",
    "\n",
    "`#SNPs_in_Set`\n",
    "The number of markers in the set.\n",
    "\n",
    "`Alt_h2`\n",
    "The value found in the alt. model, given by $\\sigma^2(h2(a2*K_S+(1-a2) * K_C)+(1-h2)*I)$, where $K_C$ is the NxN matrix to correct for confounding, and $K_S$ is the matrix containing SNPs to be tested.\t\n",
    "\n",
    "`Alt_a2`\n",
    "See Alt_h2.\n",
    "\n",
    "`Null_h2`\n",
    "The value found in the null model, given by $\\sigma^2(h2*K_C+1-h2)*I)$, where $K_C$ is the $N \\times N$ matrix to correct for confounding.\n"
   ]
  }
 ],
 "metadata": {
  "kernelspec": {
   "display_name": "Python 2",
   "language": "python",
   "name": "python2"
  },
  "language_info": {
   "codemirror_mode": {
    "name": "ipython",
    "version": 2
   },
   "file_extension": ".py",
   "mimetype": "text/x-python",
   "name": "python",
   "nbconvert_exporter": "python",
   "pygments_lexer": "ipython2",
   "version": "2.7.10"
  }
 },
 "nbformat": 4,
 "nbformat_minor": 0
}
